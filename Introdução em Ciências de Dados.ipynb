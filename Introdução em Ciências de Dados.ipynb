{
 "cells": [
  {
   "cell_type": "markdown",
   "metadata": {
    "heading_collapsed": true
   },
   "source": [
    "# Importe as Bibliotecas. \n",
    "---"
   ]
  },
  {
   "cell_type": "code",
   "execution_count": null,
   "metadata": {
    "hidden": true
   },
   "outputs": [],
   "source": [
    "import pandas as pd"
   ]
  },
  {
   "cell_type": "code",
   "execution_count": null,
   "metadata": {
    "hidden": true
   },
   "outputs": [],
   "source": [
    "import numpy as np"
   ]
  },
  {
   "cell_type": "markdown",
   "metadata": {
    "heading_collapsed": true
   },
   "source": [
    "# Algumas Funções do Python para Ciências de Dados.\n",
    "---"
   ]
  },
  {
   "cell_type": "markdown",
   "metadata": {
    "heading_collapsed": true,
    "hidden": true
   },
   "source": [
    "### Ler arquivo csv#\n",
    "### pd.read_csv( 'coloque o caminho do arquivo aqui entre aspas' ) Atribuida a uma variável \n",
    "---"
   ]
  },
  {
   "cell_type": "code",
   "execution_count": null,
   "metadata": {
    "hidden": true
   },
   "outputs": [],
   "source": [
    "data = pd.read_csv( 'datasets_para_estudos/kc_house_data.csv' )"
   ]
  },
  {
   "cell_type": "markdown",
   "metadata": {
    "heading_collapsed": true,
    "hidden": true
   },
   "source": [
    "### Mostrar as 5 primeiras linhas do arquivo#\n",
    "### print( variável.head() ) Junto com o print, colocar variável atribuida .head() entre parênteses.\n",
    "---"
   ]
  },
  {
   "cell_type": "code",
   "execution_count": null,
   "metadata": {
    "hidden": true
   },
   "outputs": [],
   "source": [
    "print(data.head())"
   ]
  },
  {
   "cell_type": "markdown",
   "metadata": {
    "heading_collapsed": true,
    "hidden": true
   },
   "source": [
    "### Mostrar quantas linha e colunas tem o arquivo#\n",
    "### print( variável.shape ) Junto com o print, colocar variável atribuida .shape entre parênteses.\n",
    "---"
   ]
  },
  {
   "cell_type": "code",
   "execution_count": null,
   "metadata": {
    "hidden": true
   },
   "outputs": [],
   "source": [
    "print(data.shape)"
   ]
  },
  {
   "cell_type": "markdown",
   "metadata": {
    "heading_collapsed": true,
    "hidden": true
   },
   "source": [
    "### Saber tipos de variáveis de cada coluna#\n",
    "### print( data.dtypes ) Junto com o print, colocar variável atribuida .dtypes entre parênteses.\n",
    "---"
   ]
  },
  {
   "cell_type": "code",
   "execution_count": null,
   "metadata": {
    "hidden": true
   },
   "outputs": [],
   "source": [
    "print( data.dtypes )"
   ]
  },
  {
   "cell_type": "markdown",
   "metadata": {
    "heading_collapsed": true,
    "hidden": true
   },
   "source": [
    "###  Mostra os nomes das colunas do arquivo\n",
    "### print( data.columns ) Junto com o print, coloca variável atribuida .columns entre parênteses.\n",
    "---"
   ]
  },
  {
   "cell_type": "code",
   "execution_count": null,
   "metadata": {
    "hidden": true
   },
   "outputs": [],
   "source": [
    "print( data.columns)"
   ]
  },
  {
   "cell_type": "markdown",
   "metadata": {
    "heading_collapsed": true,
    "hidden": true
   },
   "source": [
    "### Função .iloc --> Seleciona o índex das linhas e o índex das colunas que deseja.\n",
    "### print(variável.iloc[linha de  :  até linha tal  ,  coluna de  :  até coluna tal  ])\n",
    "###  Ex: data(data.iloc[ 0:11 , 0:4])"
   ]
  },
  {
   "cell_type": "code",
   "execution_count": null,
   "metadata": {
    "hidden": true
   },
   "outputs": [],
   "source": [
    "print(data.iloc[ 'id', 'price', 'floors'])"
   ]
  },
  {
   "cell_type": "markdown",
   "metadata": {
    "heading_collapsed": true,
    "hidden": true
   },
   "source": [
    "### Função .loc --> Seleciona o índex das linhas e nomes das colunas.\n",
    "### print(variável.loc[ 'linha de : até tal , ' nome da coluna que quer' ]\n",
    "### Ex: print(data.loc[ 0:11 , 'yr_built' ])"
   ]
  },
  {
   "cell_type": "code",
   "execution_count": null,
   "metadata": {
    "hidden": true
   },
   "outputs": [],
   "source": [
    "print(data.loc[0:11, 'yr_built'])"
   ]
  },
  {
   "cell_type": "markdown",
   "metadata": {
    "heading_collapsed": true
   },
   "source": [
    "# Converter os Tipos de Variáveis. \n",
    "---"
   ]
  },
  {
   "cell_type": "markdown",
   "metadata": {
    "heading_collapsed": true,
    "hidden": true
   },
   "source": [
    "### Converter string(objeto)-->date ( modelo de data )#\n",
    "### data[ ' date ' ] = pd.to_datetime (data[ ' date ' ])--> variável['date'] = pd.to datetime(variável['date']).\n",
    "---"
   ]
  },
  {
   "cell_type": "code",
   "execution_count": null,
   "metadata": {
    "hidden": true
   },
   "outputs": [],
   "source": [
    "data[ 'date' ] = pd.to_datetime(data[ 'date'])"
   ]
  },
  {
   "cell_type": "markdown",
   "metadata": {
    "heading_collapsed": true,
    "hidden": true
   },
   "source": [
    "### Converter   inteiro --> float #\n",
    "### variável atribuida junto com a coluna da mudança entre colchetes .astype(float)\n",
    "### Ex: data [ 'coluna escolhida' ].astype(float)\n",
    "### E atribuir na variável atribuida o novo valor--> Ex: data[ ' bedrooms ' ] = data.astype(float)\n",
    "---"
   ]
  },
  {
   "cell_type": "code",
   "execution_count": null,
   "metadata": {
    "hidden": true
   },
   "outputs": [],
   "source": [
    "data[ 'bedrooms'] = data['bedrooms'].astype(float)"
   ]
  },
  {
   "cell_type": "markdown",
   "metadata": {
    "heading_collapsed": true,
    "hidden": true
   },
   "source": [
    "### Converter   float --> inteiro #\n",
    "### variável atribuida junto com a coluna da mudança entre colchetes .astype(int)\n",
    "### Ex: data [ 'coluna escolhida' ].astype(int)\n",
    "### E atribuir na variável o novo valor--> Ex: data[ ' bedrooms ' ] = data.astype(int)\n",
    "---"
   ]
  },
  {
   "cell_type": "code",
   "execution_count": null,
   "metadata": {
    "hidden": true,
    "scrolled": false
   },
   "outputs": [],
   "source": [
    "data[ 'floors' ] = data[ 'floors' ].astype(int)"
   ]
  },
  {
   "cell_type": "markdown",
   "metadata": {
    "heading_collapsed": true,
    "hidden": true
   },
   "source": [
    "### Converter   inteiro --> string #\n",
    "### variável atribuida junto com a coluna da mudança entre colchetes .astype(str)\n",
    "### Ex: data [ 'coluna escolhida' ].astype(str)\n",
    "### E atribuir na variável o novo valor--> Ex: data[ ' bedrooms ' ] = data.astype(str)\n",
    "---"
   ]
  },
  {
   "cell_type": "code",
   "execution_count": null,
   "metadata": {
    "hidden": true
   },
   "outputs": [],
   "source": [
    "data[ 'sqft_above' ] = data[ 'sqft_above'].astype(str)"
   ]
  },
  {
   "cell_type": "code",
   "execution_count": null,
   "metadata": {
    "hidden": true
   },
   "outputs": [],
   "source": []
  },
  {
   "cell_type": "markdown",
   "metadata": {
    "heading_collapsed": true,
    "hidden": true
   },
   "source": [
    "### Converter   string --> inteiro #\n",
    "### variável atribuida junto com a coluna da mudança entre colchetes .astype(int)\n",
    "### Ex: data [ 'coluna escolhida' ].astype(int)\n",
    "### E atribuir na variável o novo valor--> Ex: data[ ' bedrooms ' ] = data.astype(int)\n",
    "---"
   ]
  },
  {
   "cell_type": "code",
   "execution_count": null,
   "metadata": {
    "hidden": true
   },
   "outputs": [],
   "source": [
    "data[ 'sqft_above' ] = data[ 'sqft_above' ].astype(int)"
   ]
  },
  {
   "cell_type": "markdown",
   "metadata": {
    "heading_collapsed": true
   },
   "source": [
    "# Manipulação das Variáveis\n",
    "---"
   ]
  },
  {
   "cell_type": "markdown",
   "metadata": {
    "heading_collapsed": true,
    "hidden": true
   },
   "source": [
    "### Criando novas coluna.\n",
    "### Coloque a variável atribuida junto com colchetes e dentro entre aspas  nome da coluna que quer inserir\n",
    "### E atribui um valor a essa nova coluna entre aspas.\n",
    "### Ex: data[ 'nome da nova coluna' ] = 'valor da nova coluna'\n",
    "---"
   ]
  },
  {
   "cell_type": "code",
   "execution_count": 130,
   "metadata": {
    "hidden": true
   },
   "outputs": [],
   "source": [
    "data['nova_coluna'] = '0001'"
   ]
  },
  {
   "cell_type": "code",
   "execution_count": 131,
   "metadata": {
    "hidden": true
   },
   "outputs": [],
   "source": [
    "data[ 'exemplo'] = '0002'"
   ]
  },
  {
   "cell_type": "code",
   "execution_count": 132,
   "metadata": {
    "hidden": true
   },
   "outputs": [],
   "source": [
    "data[ 'de nova'] = '0003'"
   ]
  },
  {
   "cell_type": "code",
   "execution_count": 133,
   "metadata": {
    "hidden": true
   },
   "outputs": [],
   "source": [
    "data[ 'deletar'] = '0004'"
   ]
  },
  {
   "cell_type": "code",
   "execution_count": 134,
   "metadata": {
    "hidden": true
   },
   "outputs": [],
   "source": [
    "data['data_comeco' ] = pd.to_datetime('04/02/2021')"
   ]
  },
  {
   "cell_type": "code",
   "execution_count": null,
   "metadata": {
    "hidden": true
   },
   "outputs": [],
   "source": [
    "print(data[['data_comeco', 'nova_coluna']].head(11))"
   ]
  },
  {
   "cell_type": "code",
   "execution_count": 158,
   "metadata": {
    "hidden": true
   },
   "outputs": [
    {
     "name": "stdout",
     "output_type": "stream",
     "text": [
      "Index(['id', 'date', 'price', 'bedrooms', 'bathrooms', 'sqft_living',\n",
      "       'sqft_lot', 'floors', 'waterfront', 'view', 'condition', 'grade',\n",
      "       'sqft_above', 'sqft_basement', 'yr_built', 'yr_renovated', 'zipcode',\n",
      "       'lat', 'long', 'sqft_living15', 'sqft_lot15'],\n",
      "      dtype='object')\n"
     ]
    }
   ],
   "source": [
    "print(data.columns)"
   ]
  },
  {
   "cell_type": "markdown",
   "metadata": {
    "heading_collapsed": true,
    "hidden": true
   },
   "source": [
    "### Deletar uma coluna\n",
    "### variável atribuida .drop( 'nome da coluna para deletar', axis = 1 )\n",
    "### Ex: data.drop( 'nome da coluna para deletar', axis = 1)"
   ]
  },
  {
   "cell_type": "code",
   "execution_count": null,
   "metadata": {
    "hidden": true
   },
   "outputs": [],
   "source": [
    "data = data.drop('de nova', axis = 1)"
   ]
  },
  {
   "cell_type": "markdown",
   "metadata": {
    "heading_collapsed": true,
    "hidden": true
   },
   "source": [
    "### Deletar mais de uma  coluna\n",
    "### variável atribuida.drop('nomes das colunas para deletar', axis = 1)\n",
    "### Ex: data.drop(nomes das colunas para deletar', axis = 1)\n",
    "### Pode atribuir as varias lista em uma variável. Ex: cols "
   ]
  },
  {
   "cell_type": "code",
   "execution_count": null,
   "metadata": {
    "hidden": true
   },
   "outputs": [],
   "source": [
    "cols = [ 'nova_coluna', 'data_comeco', 'exemplo', 'deletar' ]\n",
    "data = data.drop(cols, axis = 1)"
   ]
  },
  {
   "cell_type": "markdown",
   "metadata": {
    "heading_collapsed": true
   },
   "source": [
    "# Seleção das Colunas"
   ]
  },
  {
   "cell_type": "markdown",
   "metadata": {
    "heading_collapsed": true,
    "hidden": true
   },
   "source": [
    "## 04 formas principais de selecionar colunas"
   ]
  },
  {
   "cell_type": "markdown",
   "metadata": {
    "heading_collapsed": true,
    "hidden": true
   },
   "source": [
    "### Forma 01  -->  Seliciona direto pelo nomes das colunas\n",
    "---"
   ]
  },
  {
   "cell_type": "code",
   "execution_count": 165,
   "metadata": {
    "hidden": true
   },
   "outputs": [
    {
     "name": "stdout",
     "output_type": "stream",
     "text": [
      "Index(['id', 'date', 'price', 'bedrooms', 'bathrooms', 'sqft_living',\n",
      "       'sqft_lot', 'floors', 'waterfront', 'view', 'condition', 'grade',\n",
      "       'sqft_above', 'sqft_basement', 'yr_built', 'yr_renovated', 'zipcode',\n",
      "       'lat', 'long', 'sqft_living15', 'sqft_lot15'],\n",
      "      dtype='object')\n"
     ]
    }
   ],
   "source": [
    "print(data.columns)"
   ]
  },
  {
   "cell_type": "code",
   "execution_count": 167,
   "metadata": {
    "hidden": true
   },
   "outputs": [
    {
     "name": "stdout",
     "output_type": "stream",
     "text": [
      "           id     price  floors\n",
      "0  7129300520  221900.0       1\n",
      "1  6414100192  538000.0       2\n",
      "2  5631500400  180000.0       1\n",
      "3  2487200875  604000.0       1\n",
      "4  1954400510  510000.0       1\n"
     ]
    }
   ],
   "source": [
    "print(data[[ 'id', 'price', 'floors']].head())"
   ]
  },
  {
   "cell_type": "markdown",
   "metadata": {
    "heading_collapsed": true,
    "hidden": true
   },
   "source": [
    "### Forma 02  -->  Função .iloc  -->  Selecionar pelos índices das colunas\n",
    "---"
   ]
  },
  {
   "cell_type": "code",
   "execution_count": 169,
   "metadata": {
    "hidden": true
   },
   "outputs": [
    {
     "name": "stdout",
     "output_type": "stream",
     "text": [
      "Index(['id', 'date', 'price', 'bedrooms', 'bathrooms', 'sqft_living',\n",
      "       'sqft_lot', 'floors', 'waterfront', 'view', 'condition', 'grade',\n",
      "       'sqft_above', 'sqft_basement', 'yr_built', 'yr_renovated', 'zipcode',\n",
      "       'lat', 'long', 'sqft_living15', 'sqft_lot15'],\n",
      "      dtype='object')\n"
     ]
    }
   ],
   "source": [
    "print(data.columns)"
   ]
  },
  {
   "cell_type": "code",
   "execution_count": 173,
   "metadata": {
    "hidden": true
   },
   "outputs": [
    {
     "name": "stdout",
     "output_type": "stream",
     "text": [
      "            id       date      price      bedrooms\n",
      "0   7129300520 2014-10-13   221900.0  7.129301e+09\n",
      "1   6414100192 2014-12-09   538000.0  6.414100e+09\n",
      "2   5631500400 2015-02-25   180000.0  5.631500e+09\n",
      "3   2487200875 2014-12-09   604000.0  2.487201e+09\n",
      "4   1954400510 2015-02-18   510000.0  1.954401e+09\n",
      "5   7237550310 2014-05-12  1225000.0  7.237550e+09\n",
      "6   1321400060 2014-06-27   257500.0  1.321400e+09\n",
      "7   2008000270 2015-01-15   291850.0  2.008000e+09\n",
      "8   2414600126 2015-04-15   229500.0  2.414600e+09\n",
      "9   3793500160 2015-03-12   323000.0  3.793500e+09\n",
      "10  1736800520 2015-04-03   662500.0  1.736801e+09\n"
     ]
    }
   ],
   "source": [
    "print(data.iloc[0:11, 0:4])"
   ]
  },
  {
   "cell_type": "markdown",
   "metadata": {
    "heading_collapsed": true,
    "hidden": true
   },
   "source": [
    "### Forma 03  -->  Função .loc -->Selecionar pelos índices das linhas e nomes das colunas.\n",
    "---"
   ]
  },
  {
   "cell_type": "code",
   "execution_count": 175,
   "metadata": {
    "hidden": true
   },
   "outputs": [
    {
     "name": "stdout",
     "output_type": "stream",
     "text": [
      "Index(['id', 'date', 'price', 'bedrooms', 'bathrooms', 'sqft_living',\n",
      "       'sqft_lot', 'floors', 'waterfront', 'view', 'condition', 'grade',\n",
      "       'sqft_above', 'sqft_basement', 'yr_built', 'yr_renovated', 'zipcode',\n",
      "       'lat', 'long', 'sqft_living15', 'sqft_lot15'],\n",
      "      dtype='object')\n"
     ]
    }
   ],
   "source": [
    "print(data.columns)"
   ]
  },
  {
   "cell_type": "code",
   "execution_count": 174,
   "metadata": {
    "hidden": true
   },
   "outputs": [
    {
     "name": "stdout",
     "output_type": "stream",
     "text": [
      "0     1955\n",
      "1     1951\n",
      "2     1933\n",
      "3     1965\n",
      "4     1987\n",
      "5     2001\n",
      "6     1995\n",
      "7     1963\n",
      "8     1960\n",
      "9     2003\n",
      "10    1965\n",
      "11    1942\n",
      "Name: yr_built, dtype: int64\n"
     ]
    }
   ],
   "source": [
    "print(data.loc[0:11, 'yr_built'])"
   ]
  },
  {
   "cell_type": "markdown",
   "metadata": {
    "heading_collapsed": true,
    "hidden": true
   },
   "source": [
    "### Forma 04  -->  True / False  -->  Selecionar pelos índices Booleanos\n",
    "---"
   ]
  },
  {
   "cell_type": "code",
   "execution_count": 177,
   "metadata": {
    "hidden": true
   },
   "outputs": [
    {
     "name": "stdout",
     "output_type": "stream",
     "text": [
      "Index(['id', 'date', 'price', 'bedrooms', 'bathrooms', 'sqft_living',\n",
      "       'sqft_lot', 'floors', 'waterfront', 'view', 'condition', 'grade',\n",
      "       'sqft_above', 'sqft_basement', 'yr_built', 'yr_renovated', 'zipcode',\n",
      "       'lat', 'long', 'sqft_living15', 'sqft_lot15'],\n",
      "      dtype='object')\n"
     ]
    }
   ],
   "source": [
    "print(data.columns)"
   ]
  },
  {
   "cell_type": "code",
   "execution_count": 178,
   "metadata": {
    "hidden": true
   },
   "outputs": [
    {
     "name": "stdout",
     "output_type": "stream",
     "text": [
      "            id       date      price      bedrooms  sqft_lot  floors\n",
      "0   7129300520 2014-10-13   221900.0  7.129301e+09      5650       1\n",
      "1   6414100192 2014-12-09   538000.0  6.414100e+09      7242       2\n",
      "2   5631500400 2015-02-25   180000.0  5.631500e+09     10000       1\n",
      "3   2487200875 2014-12-09   604000.0  2.487201e+09      5000       1\n",
      "4   1954400510 2015-02-18   510000.0  1.954401e+09      8080       1\n",
      "5   7237550310 2014-05-12  1225000.0  7.237550e+09    101930       1\n",
      "6   1321400060 2014-06-27   257500.0  1.321400e+09      6819       2\n",
      "7   2008000270 2015-01-15   291850.0  2.008000e+09      9711       1\n",
      "8   2414600126 2015-04-15   229500.0  2.414600e+09      7470       1\n",
      "9   3793500160 2015-03-12   323000.0  3.793500e+09      6560       2\n",
      "10  1736800520 2015-04-03   662500.0  1.736801e+09      9796       1\n",
      "11  9212900260 2014-05-27   468000.0  9.212900e+09      6000       1\n"
     ]
    }
   ],
   "source": [
    "cols = [True, True, True, True, False, False, True, True, False, False, False, False, False, False, False, False, False, False, False, False, False]\n",
    "\n",
    "print(data.loc[0:11, cols])"
   ]
  }
 ],
 "metadata": {
  "kernelspec": {
   "display_name": "Python 3",
   "language": "python",
   "name": "python3"
  },
  "language_info": {
   "codemirror_mode": {
    "name": "ipython",
    "version": 3
   },
   "file_extension": ".py",
   "mimetype": "text/x-python",
   "name": "python",
   "nbconvert_exporter": "python",
   "pygments_lexer": "ipython3",
   "version": "3.8.3"
  }
 },
 "nbformat": 4,
 "nbformat_minor": 4
}
