{
  "nbformat": 4,
  "nbformat_minor": 0,
  "metadata": {
    "colab": {
      "name": "seja_um _cientista_02.ipynb",
      "provenance": [],
      "collapsed_sections": [
        "z92hDBeEkFoP",
        "fDRn9vTpvMWR"
      ],
      "mount_file_id": "1kNK-PltX_ADAXkpiO-vo0p2IT5KK0HW_",
      "authorship_tag": "ABX9TyP3dhuCGkYcL00RR6J8Dpdn",
      "include_colab_link": true
    },
    "kernelspec": {
      "name": "python3",
      "display_name": "Python 3"
    }
  },
  "cells": [
    {
      "cell_type": "markdown",
      "metadata": {
        "id": "view-in-github",
        "colab_type": "text"
      },
      "source": [
        "<a href=\"https://colab.research.google.com/github/ClaudioDiporty/Introducao_em_Ciencia_de_Dados_Nivel_Iniciante/blob/main/seja_um__cientista_02.ipynb\" target=\"_parent\"><img src=\"https://colab.research.google.com/assets/colab-badge.svg\" alt=\"Open In Colab\"/></a>"
      ]
    },
    {
      "cell_type": "markdown",
      "metadata": {
        "id": "UV3u4Y0oveG_"
      },
      "source": [
        "# ***Tipos de Variáveis***"
      ]
    },
    {
      "cell_type": "code",
      "metadata": {
        "id": "JFvILD2goXbO",
        "colab": {
          "base_uri": "https://localhost:8080/"
        },
        "outputId": "899ec10d-23b7-4a28-e657-f3326cd5ed67"
      },
      "source": [
        "pip install pandas   #// pip install pandas--> Instalação o Pacote Pandas //"
      ],
      "execution_count": 1,
      "outputs": [
        {
          "output_type": "stream",
          "text": [
            "Requirement already satisfied: pandas in /usr/local/lib/python3.6/dist-packages (1.1.5)\n",
            "Requirement already satisfied: pytz>=2017.2 in /usr/local/lib/python3.6/dist-packages (from pandas) (2018.9)\n",
            "Requirement already satisfied: python-dateutil>=2.7.3 in /usr/local/lib/python3.6/dist-packages (from pandas) (2.8.1)\n",
            "Requirement already satisfied: numpy>=1.15.4 in /usr/local/lib/python3.6/dist-packages (from pandas) (1.19.5)\n",
            "Requirement already satisfied: six>=1.5 in /usr/local/lib/python3.6/dist-packages (from python-dateutil>=2.7.3->pandas) (1.15.0)\n"
          ],
          "name": "stdout"
        }
      ]
    },
    {
      "cell_type": "code",
      "metadata": {
        "id": "-xTnh9EnonXE"
      },
      "source": [
        "import pandas as pd  #// import pandas as pd--> Importando o Pacote Pandas //"
      ],
      "execution_count": 2,
      "outputs": []
    },
    {
      "cell_type": "code",
      "metadata": {
        "id": "75b3aowWsW7q"
      },
      "source": [
        "import numpy as np"
      ],
      "execution_count": 3,
      "outputs": []
    },
    {
      "cell_type": "code",
      "metadata": {
        "id": "suETkmNSTTeP"
      },
      "source": [
        "data = pd.read_csv('/content/drive/MyDrive/COLAB_NOTEBOOKS/arquivos-csv/kc_house_data.csv')#// variável = pd.read_csv(\"Caminho do Arquivo\")--> Ler o Arquivo //"
      ],
      "execution_count": 4,
      "outputs": []
    },
    {
      "cell_type": "code",
      "metadata": {
        "id": "sz1GZFNbTp_L"
      },
      "source": [
        "print(data.head())  #// variável.head()--> Função para Mostrar as 5 Primeiras Linhas do Arquivo //"
      ],
      "execution_count": null,
      "outputs": []
    },
    {
      "cell_type": "code",
      "metadata": {
        "id": "ZgaRAzxqTszz"
      },
      "source": [
        "print(data.shape)  #// variável.shape--> Função para saber quantas linhas e colunas tem no Arquivo //"
      ],
      "execution_count": null,
      "outputs": []
    },
    {
      "cell_type": "code",
      "metadata": {
        "id": "HH5MS0X5T1N7"
      },
      "source": [
        "print( data.dtypes)  #// variável.dtypes--> Função para saber os tipos de variável de cada coluna //"
      ],
      "execution_count": null,
      "outputs": []
    },
    {
      "cell_type": "code",
      "metadata": {
        "colab": {
          "base_uri": "https://localhost:8080/"
        },
        "id": "wEys7phhJMog",
        "outputId": "2f80bbab-ed5f-40e8-d4be-a73138ea191c"
      },
      "source": [
        "print ( data[ 'floors'].unique())  # // variável['coluna que quer o valor'].unique()--> Função que pega o valor único da coluna //"
      ],
      "execution_count": 28,
      "outputs": [
        {
          "output_type": "stream",
          "text": [
            "[1.  2.  3.  1.5 2.5 3.5]\n"
          ],
          "name": "stdout"
        }
      ]
    },
    {
      "cell_type": "markdown",
      "metadata": {
        "id": "z92hDBeEkFoP"
      },
      "source": [
        "# ***Converter os tipos das Variáveis***\r\n"
      ]
    },
    {
      "cell_type": "code",
      "metadata": {
        "id": "8urlrE4NhPes"
      },
      "source": [
        "##// string(objeto) --> Date \r\n",
        "data['date'] = pd.to_datetime (data['date']) #// variável['date'] = pd.datetime (variável['date'])--> Função que Converte Objeto(string) em Formato Data\r\n",
        "print(data['date'])"
      ],
      "execution_count": null,
      "outputs": []
    },
    {
      "cell_type": "code",
      "metadata": {
        "id": "_z8lVg0vkg7i"
      },
      "source": [
        "##// inteiro --> float\r\n",
        "data['bedrooms'] = data ['bedrooms'].astype(float)  ##// variável.astype(...o que vai converter...) //\r\n",
        "print(data['bathrooms'])\r\n",
        "print(data[['id', 'bedrooms', 'date']].head)"
      ],
      "execution_count": null,
      "outputs": []
    },
    {
      "cell_type": "code",
      "metadata": {
        "id": "dNHSHerWk4eG"
      },
      "source": [
        "##// float --> inteiro\r\n",
        "data ['bedrooms'] = data ['bedrooms'].astype(int) \r\n",
        "print(data.dtypes)\r\n",
        "print(data['bedrooms'])"
      ],
      "execution_count": null,
      "outputs": []
    },
    {
      "cell_type": "code",
      "metadata": {
        "id": "J3wgoksgk86w"
      },
      "source": [
        "##// inteiro --> string\r\n",
        "data ['bedrooms'] = data ['bedrooms'].astype(str) \r\n",
        "print(data.dtypes)\r\n",
        "print(data['bedrooms'])"
      ],
      "execution_count": null,
      "outputs": []
    },
    {
      "cell_type": "code",
      "metadata": {
        "id": "kNWmN91WlFNg"
      },
      "source": [
        "##// string --> inteiro\r\n",
        "data ['bedrooms'] = data ['bedrooms'].astype(int) \r\n",
        "print(data.dtypes)\r\n",
        "print(data['bedrooms'])"
      ],
      "execution_count": null,
      "outputs": []
    },
    {
      "cell_type": "markdown",
      "metadata": {
        "id": "fDRn9vTpvMWR"
      },
      "source": [
        "# ***Manipulação das Variáveis***"
      ]
    },
    {
      "cell_type": "code",
      "metadata": {
        "id": "wDz7QbNnvaSs",
        "colab": {
          "base_uri": "https://localhost:8080/"
        },
        "outputId": "2e2286b0-816a-4e43-df26-b1e7a8e39db3"
      },
      "source": [
        "print(data.columns)"
      ],
      "execution_count": null,
      "outputs": [
        {
          "output_type": "stream",
          "text": [
            "Index(['id', 'date', 'price', 'bedrooms', 'bathrooms', 'sqft_living',\n",
            "       'sqft_lot', 'floors', 'waterfront', 'view', 'condition', 'grade',\n",
            "       'sqft_above', 'sqft_basement', 'yr_built', 'yr_renovated', 'zipcode',\n",
            "       'lat', 'long', 'sqft_living15', 'sqft_lot15'],\n",
            "      dtype='object')\n"
          ],
          "name": "stdout"
        }
      ]
    },
    {
      "cell_type": "code",
      "metadata": {
        "id": "D4GrObjqyqGd"
      },
      "source": [
        "##// Criando Novas Variáveis e novas Colunas\r\n",
        "\r\n",
        "data['nome_do_diporty'] = 'patyz'\r\n",
        "data['nome_kauan'] = 'neto'\r\n",
        "data['nome_Gaby'] = 'filha'\r\n",
        "print(data[['nome_do_diporty', 'date', 'nome_kauan', 'nome_Gaby']].head())"
      ],
      "execution_count": null,
      "outputs": []
    },
    {
      "cell_type": "code",
      "metadata": {
        "id": "J63TdlAr1M4Z"
      },
      "source": [
        "data['data_aprendizado'] = pd.to_datetime('2021-01-31')\r\n",
        "\r\n",
        "print(data[['id','data_aprendizado', 'nome_do_diporty', 'nome_kauan', 'nome_Gaby']].head())\r\n",
        "\r\n",
        "(data.dtypes).head(6)"
      ],
      "execution_count": null,
      "outputs": []
    },
    {
      "cell_type": "code",
      "metadata": {
        "id": "drptb5T14bwL"
      },
      "source": [
        "print(data.columns)"
      ],
      "execution_count": null,
      "outputs": []
    },
    {
      "cell_type": "code",
      "metadata": {
        "id": "hEx_sjdz4PU_"
      },
      "source": [
        "##// Deletar Variáveis // data = data.drop('nome da coluna para deletar', axis = 1) //\r\n",
        "                #(atribuir na variável de novo)#\r\n",
        "\r\n",
        "data = data.drop('data_aprendizado', axis=1)\r\n",
        "\r\n",
        "print(data.columns)"
      ],
      "execution_count": null,
      "outputs": []
    },
    {
      "cell_type": "code",
      "metadata": {
        "id": "7XXZOyXP7gWQ"
      },
      "source": [
        "##// Deletar mais de uma Variáveis //\r\n",
        "cols = ['nome_do_diporty','nome_kauan', 'nome_Gaby']\r\n",
        "data = data.drop(cols, axis=1)\r\n",
        "print(data.columns)"
      ],
      "execution_count": null,
      "outputs": []
    },
    {
      "cell_type": "markdown",
      "metadata": {
        "id": "4GhNNYFFLlxK"
      },
      "source": [
        "# ***Seleção das Variáveis(colunas)***"
      ]
    },
    {
      "cell_type": "code",
      "metadata": {
        "id": "mqtgtjUIL5U4"
      },
      "source": [
        "import pandas as pd "
      ],
      "execution_count": null,
      "outputs": []
    },
    {
      "cell_type": "code",
      "metadata": {
        "id": "Yh-AZWvKMuMi"
      },
      "source": [
        "data = pd.read_csv('/content/drive/MyDrive/COLAB_NOTEBOOKS/kc_house_data.csv')"
      ],
      "execution_count": null,
      "outputs": []
    },
    {
      "cell_type": "code",
      "metadata": {
        "id": "7u51LpPENAGE"
      },
      "source": [
        "print(data.columns)"
      ],
      "execution_count": null,
      "outputs": []
    },
    {
      "cell_type": "code",
      "metadata": {
        "id": "QLGZ1avnL-7X"
      },
      "source": [
        "##Forma 01 --> //Selecionar Direto pelo nomes das colunas //\r\n",
        "\r\n",
        "print(data[['id', 'date', 'price', 'condition']].head())"
      ],
      "execution_count": null,
      "outputs": []
    },
    {
      "cell_type": "code",
      "metadata": {
        "id": "mawoUpGQMRkV"
      },
      "source": [
        "##Forma 02 --> //Selecionar pelos Índices e Colunas //\r\n",
        "\r\n",
        "print(data.iloc[0:11, 0:3])  ##// variável.iloc[linha de : até  , coluna de : até  ]--> Função inloc para selecionar index das linha e o index das colunas que quer."
      ],
      "execution_count": null,
      "outputs": []
    },
    {
      "cell_type": "code",
      "metadata": {
        "id": "Egp0jcoDRqrA"
      },
      "source": [
        "##Forma 03 --> //Selecionar pelos Índices e Nomes das Colunas //\r\n",
        "\r\n",
        "print(data.loc[0:11, 'date'])  ##variável.loc[linha de : até  , 'nome da coluna']--> Função loc seleciona o index das linhas e o nome das colunas."
      ],
      "execution_count": null,
      "outputs": []
    },
    {
      "cell_type": "code",
      "metadata": {
        "id": "zJwBmIdYUbUJ"
      },
      "source": [
        "print(data.loc[0:11, ['date', 'zipcode', 'lat', 'long']]) "
      ],
      "execution_count": null,
      "outputs": []
    },
    {
      "cell_type": "code",
      "metadata": {
        "id": "isSLBIcEVIL2"
      },
      "source": [
        "cols = ['date', 'zipcode', 'lat', 'long']\r\n",
        "print(data.loc[0:11, cols])"
      ],
      "execution_count": null,
      "outputs": []
    },
    {
      "cell_type": "code",
      "metadata": {
        "id": "B8UGGRH6b5H_"
      },
      "source": [
        "print(data.columns)"
      ],
      "execution_count": null,
      "outputs": []
    },
    {
      "cell_type": "code",
      "metadata": {
        "id": "kQ_27E9YVztQ"
      },
      "source": [
        "##Forma 04 --> // Selecionar pelos Índices Booleanos// \r\n",
        "\r\n",
        "##// True / False\r\n",
        "\r\n",
        "cols = [True, True, True, True, False, True, True, True, False, False, False, False, False, False, False, False, False, False, False, False, False]\r\n",
        "print(data.loc[0:11, cols]) #-->  True / False"
      ],
      "execution_count": null,
      "outputs": []
    },
    {
      "cell_type": "markdown",
      "metadata": {
        "id": "c8M_7J6ocOXY"
      },
      "source": [
        "# ***Responder Algumas Perguntas de Negócios***\r\n",
        "---\r\n",
        "# ***Praticar Fazendo Exercícios***\r\n",
        "---"
      ]
    },
    {
      "cell_type": "code",
      "metadata": {
        "id": "MT71-r4yc0JC"
      },
      "source": [
        "import numpy as np\r\n",
        "data = pd.read_csv( '/content/drive/MyDrive/COLAB_NOTEBOOKS/arquivos-csv/kc_house_data.csv' )"
      ],
      "execution_count": 11,
      "outputs": []
    },
    {
      "cell_type": "code",
      "metadata": {
        "id": "pxeIL8p3dCCE"
      },
      "source": [
        "## Qual a data mais antiga do Dataset ?##\r\n",
        "\r\n",
        "data['date'] = pd.to_datetime (data['date'])\r\n",
        "\r\n",
        "data = (data.sort_values('date', ascending=True))\r\n",
        "#print(data)\r\n",
        "print(data['date'].head())\r\n",
        "\r\n",
        "## Data mais antiga é 2014-05-02 !!"
      ],
      "execution_count": null,
      "outputs": []
    },
    {
      "cell_type": "code",
      "metadata": {
        "id": "5apCo_t3HnW_"
      },
      "source": [
        "## Quantos imóveis possuem o número máximo de andares ? ##\r\n",
        "\r\n",
        "## São 8 imóveis que possuem o número máximo de andares, são 3.5 andares por imóveis.\r\n",
        "\r\n",
        "#data.columns\r\n",
        "print(data[ 'floors' ].head())"
      ],
      "execution_count": null,
      "outputs": []
    },
    {
      "cell_type": "code",
      "metadata": {
        "id": "AmA5Am-HKiQ8"
      },
      "source": [
        "print(data['floors'])"
      ],
      "execution_count": null,
      "outputs": []
    },
    {
      "cell_type": "code",
      "metadata": {
        "id": "IWVUq7EvLJes"
      },
      "source": [
        "print([data['floors'] == 3.5])"
      ],
      "execution_count": null,
      "outputs": []
    },
    {
      "cell_type": "code",
      "metadata": {
        "id": "NaLlsYyvO4I8"
      },
      "source": [
        "print(data[data['floors'] == 3.5]) # Retorna todas as linhas que são True // "
      ],
      "execution_count": null,
      "outputs": []
    },
    {
      "cell_type": "code",
      "metadata": {
        "id": "nEerFT2qOXeh"
      },
      "source": [
        "print(data[data['floors'] == 3.5][['floors'] ].shape)"
      ],
      "execution_count": null,
      "outputs": []
    },
    {
      "cell_type": "code",
      "metadata": {
        "id": "Gd1harJqPbuz"
      },
      "source": [
        "print(data[data['floors'] == 3.5].shape)"
      ],
      "execution_count": null,
      "outputs": []
    }
  ]
}